{
 "cells": [
  {
   "cell_type": "code",
   "execution_count": null,
   "metadata": {},
   "outputs": [],
   "source": [
    "import pandas as pd\n",
    "\n",
    "# Carregando os dados dos arquivos CSV\n",
    "fornecedores = pd.read_csv('Fornecedores.csv')\n",
    "transportadoras = pd.read_csv('Transportadoras.csv')\n",
    "vendas_globais = pd.read_csv('Vendas Globais.csv')\n",
    "vendedores = pd.read_csv('Vendedores.csv')\n",
    "\n",
    "# Juntando os DataFrames conforme necessário\n",
    "dados = vendas_globais.merge(fornecedores, on='FornecedorID').merge(transportadoras, on='TransportadoraID').merge(vendedores, on='VendedorID')\n",
    "\n",
    "# Convertendo coluna de datas para tipo datetime, se aplicável\n",
    "dados['Data'] = pd.to_datetime(dados['Data'], format='%d/%m/%Y')"
   ]
  },
  {
   "cell_type": "code",
   "execution_count": 11,
   "metadata": {},
   "outputs": [
    {
     "name": "stdout",
     "output_type": "stream",
     "text": [
      "-----------------1--------------------\n"
     ]
    },
    {
     "data": {
      "text/html": [
       "<div>\n",
       "<style scoped>\n",
       "    .dataframe tbody tr th:only-of-type {\n",
       "        vertical-align: middle;\n",
       "    }\n",
       "\n",
       "    .dataframe tbody tr th {\n",
       "        vertical-align: top;\n",
       "    }\n",
       "\n",
       "    .dataframe thead th {\n",
       "        text-align: right;\n",
       "    }\n",
       "</style>\n",
       "<table border=\"1\" class=\"dataframe\">\n",
       "  <thead>\n",
       "    <tr style=\"text-align: right;\">\n",
       "      <th></th>\n",
       "      <th>ClienteNome</th>\n",
       "      <th>Vendas</th>\n",
       "    </tr>\n",
       "  </thead>\n",
       "  <tbody>\n",
       "    <tr>\n",
       "      <th>0</th>\n",
       "      <td>Grunewald</td>\n",
       "      <td>201320.4531</td>\n",
       "    </tr>\n",
       "    <tr>\n",
       "      <th>1</th>\n",
       "      <td>Th Fashing</td>\n",
       "      <td>152114.7892</td>\n",
       "    </tr>\n",
       "    <tr>\n",
       "      <th>2</th>\n",
       "      <td>Boleros</td>\n",
       "      <td>131133.1451</td>\n",
       "    </tr>\n",
       "    <tr>\n",
       "      <th>3</th>\n",
       "      <td>Champes</td>\n",
       "      <td>91362.1350</td>\n",
       "    </tr>\n",
       "    <tr>\n",
       "      <th>4</th>\n",
       "      <td>The Corner Store</td>\n",
       "      <td>82519.8235</td>\n",
       "    </tr>\n",
       "    <tr>\n",
       "      <th>5</th>\n",
       "      <td>Eintrach GS</td>\n",
       "      <td>75153.5245</td>\n",
       "    </tr>\n",
       "    <tr>\n",
       "      <th>6</th>\n",
       "      <td>Don Balón</td>\n",
       "      <td>68265.6625</td>\n",
       "    </tr>\n",
       "    <tr>\n",
       "      <th>7</th>\n",
       "      <td>Warp AG</td>\n",
       "      <td>65815.9770</td>\n",
       "    </tr>\n",
       "    <tr>\n",
       "      <th>8</th>\n",
       "      <td>Rode &amp; Vite</td>\n",
       "      <td>59976.9277</td>\n",
       "    </tr>\n",
       "    <tr>\n",
       "      <th>9</th>\n",
       "      <td>Boombastic</td>\n",
       "      <td>50922.4655</td>\n",
       "    </tr>\n",
       "  </tbody>\n",
       "</table>\n",
       "</div>"
      ],
      "text/plain": [
       "        ClienteNome       Vendas\n",
       "0         Grunewald  201320.4531\n",
       "1        Th Fashing  152114.7892\n",
       "2           Boleros  131133.1451\n",
       "3           Champes   91362.1350\n",
       "4  The Corner Store   82519.8235\n",
       "5       Eintrach GS   75153.5245\n",
       "6         Don Balón   68265.6625\n",
       "7           Warp AG   65815.9770\n",
       "8       Rode & Vite   59976.9277\n",
       "9        Boombastic   50922.4655"
      ]
     },
     "metadata": {},
     "output_type": "display_data"
    }
   ],
   "source": [
    "# 1. Quem são os meus 10 maiores clientes, em termos de vendas ($)?\n",
    "top_10_clientes = dados.groupby('ClienteNome').sum(numeric_only=True).sort_values(by='Vendas', ascending=False).head(10)\n",
    "top_10_clientes.reset_index(inplace=True)\n",
    "top10_cliente_display = top_10_clientes[[\"ClienteNome\", \"Vendas\"]]\n",
    "print(\"-----------------1--------------------\")\n",
    "display(top10_cliente_display)"
   ]
  },
  {
   "cell_type": "code",
   "execution_count": 4,
   "metadata": {},
   "outputs": [
    {
     "name": "stdout",
     "output_type": "stream",
     "text": [
      "-----------------2--------------------\n"
     ]
    },
    {
     "data": {
      "text/html": [
       "<div>\n",
       "<style scoped>\n",
       "    .dataframe tbody tr th:only-of-type {\n",
       "        vertical-align: middle;\n",
       "    }\n",
       "\n",
       "    .dataframe tbody tr th {\n",
       "        vertical-align: top;\n",
       "    }\n",
       "\n",
       "    .dataframe thead th {\n",
       "        text-align: right;\n",
       "    }\n",
       "</style>\n",
       "<table border=\"1\" class=\"dataframe\">\n",
       "  <thead>\n",
       "    <tr style=\"text-align: right;\">\n",
       "      <th></th>\n",
       "      <th>ClientePaís</th>\n",
       "      <th>Vendas</th>\n",
       "    </tr>\n",
       "  </thead>\n",
       "  <tbody>\n",
       "    <tr>\n",
       "      <th>0</th>\n",
       "      <td>Germany</td>\n",
       "      <td>519553.7336</td>\n",
       "    </tr>\n",
       "    <tr>\n",
       "      <th>1</th>\n",
       "      <td>USA</td>\n",
       "      <td>186313.2205</td>\n",
       "    </tr>\n",
       "    <tr>\n",
       "      <th>2</th>\n",
       "      <td>France</td>\n",
       "      <td>175565.3015</td>\n",
       "    </tr>\n",
       "  </tbody>\n",
       "</table>\n",
       "</div>"
      ],
      "text/plain": [
       "  ClientePaís       Vendas\n",
       "0     Germany  519553.7336\n",
       "1         USA  186313.2205\n",
       "2      France  175565.3015"
      ]
     },
     "metadata": {},
     "output_type": "display_data"
    }
   ],
   "source": [
    "# 2. Quais os três maiores países, em termos de vendas ($)?\n",
    "top_3_paises = dados.groupby('ClientePaís').sum(numeric_only=True).sort_values(by='Vendas', ascending=False).head(3)\n",
    "top_3_paises.reset_index(inplace=True)\n",
    "top_3_paises_display = top_3_paises[[\"ClientePaís\", \"Vendas\"]]\n",
    "print(\"-----------------2--------------------\")\n",
    "display(top_3_paises_display)"
   ]
  },
  {
   "cell_type": "code",
   "execution_count": 5,
   "metadata": {},
   "outputs": [
    {
     "name": "stdout",
     "output_type": "stream",
     "text": [
      "-----------------3--------------------\n"
     ]
    },
    {
     "data": {
      "text/html": [
       "<div>\n",
       "<style scoped>\n",
       "    .dataframe tbody tr th:only-of-type {\n",
       "        vertical-align: middle;\n",
       "    }\n",
       "\n",
       "    .dataframe tbody tr th {\n",
       "        vertical-align: top;\n",
       "    }\n",
       "\n",
       "    .dataframe thead th {\n",
       "        text-align: right;\n",
       "    }\n",
       "</style>\n",
       "<table border=\"1\" class=\"dataframe\">\n",
       "  <thead>\n",
       "    <tr style=\"text-align: right;\">\n",
       "      <th></th>\n",
       "      <th>CategoriaDescrição</th>\n",
       "      <th>Vendas</th>\n",
       "    </tr>\n",
       "  </thead>\n",
       "  <tbody>\n",
       "    <tr>\n",
       "      <th>0</th>\n",
       "      <td>Fashion for Women</td>\n",
       "      <td>60941.7265</td>\n",
       "    </tr>\n",
       "    <tr>\n",
       "      <th>1</th>\n",
       "      <td>Sports…</td>\n",
       "      <td>19509.4255</td>\n",
       "    </tr>\n",
       "    <tr>\n",
       "      <th>2</th>\n",
       "      <td>0-3 Years</td>\n",
       "      <td>10367.2100</td>\n",
       "    </tr>\n",
       "    <tr>\n",
       "      <th>3</th>\n",
       "      <td>Men Shoes</td>\n",
       "      <td>9467.7425</td>\n",
       "    </tr>\n",
       "    <tr>\n",
       "      <th>4</th>\n",
       "      <td>Ladies Shoes</td>\n",
       "      <td>7798.5190</td>\n",
       "    </tr>\n",
       "    <tr>\n",
       "      <th>5</th>\n",
       "      <td>Fashion for Men</td>\n",
       "      <td>6158.0640</td>\n",
       "    </tr>\n",
       "    <tr>\n",
       "      <th>6</th>\n",
       "      <td>Beachwear</td>\n",
       "      <td>3407.7050</td>\n",
       "    </tr>\n",
       "    <tr>\n",
       "      <th>7</th>\n",
       "      <td>3-15 Years</td>\n",
       "      <td>2752.4250</td>\n",
       "    </tr>\n",
       "  </tbody>\n",
       "</table>\n",
       "</div>"
      ],
      "text/plain": [
       "  CategoriaDescrição      Vendas\n",
       "0  Fashion for Women  60941.7265\n",
       "1            Sports…  19509.4255\n",
       "2          0-3 Years  10367.2100\n",
       "3          Men Shoes   9467.7425\n",
       "4       Ladies Shoes   7798.5190\n",
       "5    Fashion for Men   6158.0640\n",
       "6          Beachwear   3407.7050\n",
       "7         3-15 Years   2752.4250"
      ]
     },
     "metadata": {},
     "output_type": "display_data"
    }
   ],
   "source": [
    "# 3. Quais as categorias de produtos que geram maior faturamento (vendas $) no Brasil?\n",
    "categorias_brasil = dados[dados['ClientePaís'] == 'Brazil'].groupby('CategoriaDescrição').sum(numeric_only=True).sort_values(by='Vendas', ascending=False)\n",
    "categorias_brasil.reset_index(inplace=True)\n",
    "categorias_brasil_display = categorias_brasil[[\"CategoriaDescrição\", \"Vendas\"]]\n",
    "print(\"-----------------3--------------------\")\n",
    "display(categorias_brasil_display)"
   ]
  },
  {
   "cell_type": "code",
   "execution_count": 6,
   "metadata": {},
   "outputs": [
    {
     "name": "stdout",
     "output_type": "stream",
     "text": [
      "-----------------4--------------------\n"
     ]
    },
    {
     "data": {
      "text/plain": [
       "TransportadoraNome\n",
       "Global Express      70897.82\n",
       "General Shipping    19843.83\n",
       "Great Logistics     18771.69\n",
       "Name: Frete, dtype: float64"
      ]
     },
     "metadata": {},
     "output_type": "display_data"
    }
   ],
   "source": [
    "# 4. Qual a despesa com frete envolvendo cada transportadora?\n",
    "despesa_frete = dados.groupby('TransportadoraNome')['Frete'].sum().sort_values(ascending=False)\n",
    "print(\"-----------------4--------------------\")\n",
    "display(despesa_frete)"
   ]
  },
  {
   "cell_type": "code",
   "execution_count": 7,
   "metadata": {},
   "outputs": [
    {
     "name": "stdout",
     "output_type": "stream",
     "text": [
      "----------------5---------------------\n"
     ]
    },
    {
     "data": {
      "text/html": [
       "<div>\n",
       "<style scoped>\n",
       "    .dataframe tbody tr th:only-of-type {\n",
       "        vertical-align: middle;\n",
       "    }\n",
       "\n",
       "    .dataframe tbody tr th {\n",
       "        vertical-align: top;\n",
       "    }\n",
       "\n",
       "    .dataframe thead th {\n",
       "        text-align: right;\n",
       "    }\n",
       "</style>\n",
       "<table border=\"1\" class=\"dataframe\">\n",
       "  <thead>\n",
       "    <tr style=\"text-align: right;\">\n",
       "      <th></th>\n",
       "      <th>ClienteNome</th>\n",
       "      <th>Vendas</th>\n",
       "    </tr>\n",
       "  </thead>\n",
       "  <tbody>\n",
       "    <tr>\n",
       "      <th>0</th>\n",
       "      <td>Grunewald</td>\n",
       "      <td>20488.4850</td>\n",
       "    </tr>\n",
       "    <tr>\n",
       "      <th>1</th>\n",
       "      <td>Gluderstedt</td>\n",
       "      <td>11923.3485</td>\n",
       "    </tr>\n",
       "    <tr>\n",
       "      <th>2</th>\n",
       "      <td>Boombastic</td>\n",
       "      <td>11235.9700</td>\n",
       "    </tr>\n",
       "    <tr>\n",
       "      <th>3</th>\n",
       "      <td>Eintrach GS</td>\n",
       "      <td>10377.8330</td>\n",
       "    </tr>\n",
       "    <tr>\n",
       "      <th>4</th>\n",
       "      <td>Warp AG</td>\n",
       "      <td>9085.7650</td>\n",
       "    </tr>\n",
       "    <tr>\n",
       "      <th>5</th>\n",
       "      <td>Noch Einmal GMBH</td>\n",
       "      <td>3030.7200</td>\n",
       "    </tr>\n",
       "    <tr>\n",
       "      <th>6</th>\n",
       "      <td>Casual Clothing</td>\n",
       "      <td>2602.5025</td>\n",
       "    </tr>\n",
       "    <tr>\n",
       "      <th>7</th>\n",
       "      <td>Halle Köln</td>\n",
       "      <td>1692.5580</td>\n",
       "    </tr>\n",
       "    <tr>\n",
       "      <th>8</th>\n",
       "      <td>Man Kleider</td>\n",
       "      <td>1108.0000</td>\n",
       "    </tr>\n",
       "    <tr>\n",
       "      <th>9</th>\n",
       "      <td>Kohl Industries AG</td>\n",
       "      <td>286.5600</td>\n",
       "    </tr>\n",
       "  </tbody>\n",
       "</table>\n",
       "</div>"
      ],
      "text/plain": [
       "          ClienteNome      Vendas\n",
       "0           Grunewald  20488.4850\n",
       "1         Gluderstedt  11923.3485\n",
       "2          Boombastic  11235.9700\n",
       "3         Eintrach GS  10377.8330\n",
       "4             Warp AG   9085.7650\n",
       "5    Noch Einmal GMBH   3030.7200\n",
       "6     Casual Clothing   2602.5025\n",
       "7          Halle Köln   1692.5580\n",
       "8         Man Kleider   1108.0000\n",
       "9  Kohl Industries AG    286.5600"
      ]
     },
     "metadata": {},
     "output_type": "display_data"
    }
   ],
   "source": [
    "# 5. Quais são os principais clientes (vendas $) do segmento “Calçados Masculinos” (Men's Footwear) na Alemanha?\n",
    "clientes_calcados_alemanha = dados[(dados['CategoriaNome'] == \"Men´s Footwear\") & (dados['ClientePaís'] == 'Germany')].groupby('ClienteNome').sum(numeric_only=True).sort_values(by='Vendas', ascending=False)\n",
    "print('----------------5---------------------')\n",
    "clientes_calcados_alemanha.reset_index(inplace=True)\n",
    "cliente_calcados_display = clientes_calcados_alemanha[['ClienteNome', 'Vendas']]\n",
    "display(cliente_calcados_display)"
   ]
  },
  {
   "cell_type": "code",
   "execution_count": null,
   "metadata": {},
   "outputs": [],
   "source": [
    "# 6. Quais os vendedores que mais dão descontos nos Estados Unidos?\n",
    "vendedores_descontos_usa = dados[dados['ClientePaís'] == 'USA'].groupby('VendedorNome')['Desconto'].sum().sort_values(ascending=False)\n",
    "print(\"-------------6------------------------\")\n",
    "# vendedores_descontos_usa.reset_index(inplace=True)\n",
    "# vendedores_usa_display = vendedores_descontos_usa[['VendendorNome', 'Desconto']]\n",
    "display(vendedores_descontos_usa)"
   ]
  },
  {
   "cell_type": "code",
   "execution_count": null,
   "metadata": {},
   "outputs": [],
   "source": [
    "# 7. Quais os fornecedores que dão a maior margem de lucro ($) no segmento de “Vestuário Feminino” (Women's Wear)?\n",
    "fornecedores_margem_vestuario_feminino = dados[dados['CategoriaNome'] == 'Womens wear'].groupby('FornecedorNome')['Margem Bruta'].sum().sort_values(ascending=False)\n",
    "print(\"---------------7----------------------\")\n",
    "display(fornecedores_margem_vestuario_feminino)"
   ]
  },
  {
   "cell_type": "code",
   "execution_count": 16,
   "metadata": {},
   "outputs": [
    {
     "name": "stdout",
     "output_type": "stream",
     "text": [
      "-----------------8--------------------\n",
      "87666.294\n",
      "-------------------------------------Vendas Anuais---------------------------\n"
     ]
    },
    {
     "data": {
      "text/plain": [
       "Data\n",
       "2009     87666.2940\n",
       "2010    370788.5561\n",
       "2011    641719.4091\n",
       "2012    682973.4414\n",
       "Name: Vendas, dtype: float64"
      ]
     },
     "metadata": {},
     "output_type": "display_data"
    }
   ],
   "source": [
    "# 8. Quanto que foi vendido ($) no ano de 2009?\n",
    "vendas_2009 = dados[dados['Data'].dt.year == 2009]['Vendas'].sum()\n",
    "vendas_anuais = dados.groupby(dados['Data'].dt.year)['Vendas'].sum()\n",
    "# Aqui você deve analisar as vendas anuais para verificar a tendência.\n",
    "print(\"-----------------8--------------------\")\n",
    "print(vendas_2009)\n",
    "print(\"-------------------------------------Vendas Anuais---------------------------\")\n",
    "display(vendas_anuais)"
   ]
  },
  {
   "cell_type": "code",
   "execution_count": null,
   "metadata": {},
   "outputs": [],
   "source": [
    "# 9. Quais são os principais clientes (vendas $) do segmento “Calçados Masculinos” (Men's Footwear) na Alemanha?\n",
    "# IGUAL A QUESTÃO 5\n",
    "# clientes_calcados_alemanha = dados[(dados['CategoriaNome'] == \"Men´s Footwear\") & (dados['ClientePaís'] == 'Alemanha')].groupby('ClienteNome').sum().sort_values(by='Vendas', ascending=False)\n",
    "# print(\"----------------9---------------------\")\n",
    "# print(clientes_calcados_alemanha)"
   ]
  },
  {
   "cell_type": "code",
   "execution_count": 17,
   "metadata": {},
   "outputs": [
    {
     "name": "stdout",
     "output_type": "stream",
     "text": [
      "-----------------10--------------------\n"
     ]
    },
    {
     "data": {
      "text/plain": [
       "ClientePaís\n",
       "Germany        491\n",
       "USA            267\n",
       "France         177\n",
       "UK             163\n",
       "Brazil         157\n",
       "Ireland        140\n",
       "Venezuela      121\n",
       "Mexico         113\n",
       "Denmark         92\n",
       "Canada          87\n",
       "Sweden          78\n",
       "Austria         63\n",
       "Spain           56\n",
       "Italy           35\n",
       "Argentina       27\n",
       "Switzerland     26\n",
       "Belgium         25\n",
       "Portugal        21\n",
       "Finland         16\n",
       "Poland          16\n",
       "Norway           1\n",
       "Name: count, dtype: int64"
      ]
     },
     "metadata": {},
     "output_type": "display_data"
    },
    {
     "name": "stdout",
     "output_type": "stream",
     "text": [
      "-------------------------------------\n"
     ]
    }
   ],
   "source": [
    "# 10. Quais os países nos quais mais se tiram pedidos (quantidade total de pedidos)?\n",
    "pedidos_por_pais = dados['ClientePaís'].value_counts()\n",
    "print(\"-----------------10--------------------\")\n",
    "display(pedidos_por_pais)\n",
    "print(\"-------------------------------------\")"
   ]
  }
 ],
 "metadata": {
  "kernelspec": {
   "display_name": "venv",
   "language": "python",
   "name": "python3"
  },
  "language_info": {
   "codemirror_mode": {
    "name": "ipython",
    "version": 3
   },
   "file_extension": ".py",
   "mimetype": "text/x-python",
   "name": "python",
   "nbconvert_exporter": "python",
   "pygments_lexer": "ipython3",
   "version": "3.10.11"
  }
 },
 "nbformat": 4,
 "nbformat_minor": 2
}
